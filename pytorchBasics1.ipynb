{
  "nbformat": 4,
  "nbformat_minor": 0,
  "metadata": {
    "colab": {
      "name": "pytorchBasics1.ipynb",
      "provenance": [],
      "collapsed_sections": []
    },
    "kernelspec": {
      "name": "python3",
      "display_name": "Python 3"
    },
    "language_info": {
      "name": "python"
    },
    "accelerator": "GPU"
  },
  "cells": [
    {
      "cell_type": "code",
      "metadata": {
        "id": "-z0VECd4lo1V"
      },
      "source": [
        "import torch"
      ],
      "execution_count": 3,
      "outputs": []
    },
    {
      "cell_type": "code",
      "metadata": {
        "colab": {
          "base_uri": "https://localhost:8080/"
        },
        "id": "oiIkelxwl0qF",
        "outputId": "9e90455f-696c-4603-ffbf-a9e1df7b4461"
      },
      "source": [
        "t1= torch.tensor(4.)\n",
        "t1"
      ],
      "execution_count": 4,
      "outputs": [
        {
          "output_type": "execute_result",
          "data": {
            "text/plain": [
              "tensor(4.)"
            ]
          },
          "metadata": {
            "tags": []
          },
          "execution_count": 4
        }
      ]
    },
    {
      "cell_type": "code",
      "metadata": {
        "colab": {
          "base_uri": "https://localhost:8080/"
        },
        "id": "GYJG4VQ0l6Uy",
        "outputId": "1907bacd-34d6-41de-e9c6-05079038cb24"
      },
      "source": [
        "type(t1)"
      ],
      "execution_count": 5,
      "outputs": [
        {
          "output_type": "execute_result",
          "data": {
            "text/plain": [
              "torch.Tensor"
            ]
          },
          "metadata": {
            "tags": []
          },
          "execution_count": 5
        }
      ]
    },
    {
      "cell_type": "code",
      "metadata": {
        "colab": {
          "base_uri": "https://localhost:8080/"
        },
        "id": "Qfgw7sYJl80d",
        "outputId": "97f139e9-dae5-4c27-9c1f-76f78d96b030"
      },
      "source": [
        "t1.dtype"
      ],
      "execution_count": 6,
      "outputs": [
        {
          "output_type": "execute_result",
          "data": {
            "text/plain": [
              "torch.float32"
            ]
          },
          "metadata": {
            "tags": []
          },
          "execution_count": 6
        }
      ]
    },
    {
      "cell_type": "code",
      "metadata": {
        "colab": {
          "base_uri": "https://localhost:8080/"
        },
        "id": "oGY9d2Ijl_Tg",
        "outputId": "24171557-4903-4a77-a7d2-603cc293eb94"
      },
      "source": [
        "t2 = torch.tensor([1,2,3,4.])\n",
        "t2"
      ],
      "execution_count": 7,
      "outputs": [
        {
          "output_type": "execute_result",
          "data": {
            "text/plain": [
              "tensor([1., 2., 3., 4.])"
            ]
          },
          "metadata": {
            "tags": []
          },
          "execution_count": 7
        }
      ]
    },
    {
      "cell_type": "code",
      "metadata": {
        "colab": {
          "base_uri": "https://localhost:8080/"
        },
        "id": "EqkUe5vNmLcW",
        "outputId": "a09cfc6d-125e-4ab6-949a-76b24602bb51"
      },
      "source": [
        "type(t2\n",
        "     )"
      ],
      "execution_count": 8,
      "outputs": [
        {
          "output_type": "execute_result",
          "data": {
            "text/plain": [
              "torch.Tensor"
            ]
          },
          "metadata": {
            "tags": []
          },
          "execution_count": 8
        }
      ]
    },
    {
      "cell_type": "code",
      "metadata": {
        "colab": {
          "base_uri": "https://localhost:8080/"
        },
        "id": "rl6OqxbvmNfV",
        "outputId": "dc268065-d46a-4ef9-91cb-c7ba2e1d7b4c"
      },
      "source": [
        "t2.dtype"
      ],
      "execution_count": 9,
      "outputs": [
        {
          "output_type": "execute_result",
          "data": {
            "text/plain": [
              "torch.float32"
            ]
          },
          "metadata": {
            "tags": []
          },
          "execution_count": 9
        }
      ]
    },
    {
      "cell_type": "code",
      "metadata": {
        "colab": {
          "base_uri": "https://localhost:8080/"
        },
        "id": "7eBLslLomRLX",
        "outputId": "cf9ae089-48b4-4eec-ffbb-b5babed8f9d9"
      },
      "source": [
        "# Matrix\n",
        "t3= torch.tensor([[1.,2,3,4],[5,6,7,8],[9,8,7,4]])\n",
        "t3"
      ],
      "execution_count": 10,
      "outputs": [
        {
          "output_type": "execute_result",
          "data": {
            "text/plain": [
              "tensor([[1., 2., 3., 4.],\n",
              "        [5., 6., 7., 8.],\n",
              "        [9., 8., 7., 4.]])"
            ]
          },
          "metadata": {
            "tags": []
          },
          "execution_count": 10
        }
      ]
    },
    {
      "cell_type": "code",
      "metadata": {
        "colab": {
          "base_uri": "https://localhost:8080/"
        },
        "id": "LIN7yR4GnACu",
        "outputId": "7b18a48c-388b-4c73-e759-d24b0e22bf9b"
      },
      "source": [
        "t3.dtype"
      ],
      "execution_count": 11,
      "outputs": [
        {
          "output_type": "execute_result",
          "data": {
            "text/plain": [
              "torch.float32"
            ]
          },
          "metadata": {
            "tags": []
          },
          "execution_count": 11
        }
      ]
    },
    {
      "cell_type": "code",
      "metadata": {
        "colab": {
          "base_uri": "https://localhost:8080/"
        },
        "id": "skFiTajsnCqN",
        "outputId": "253e7480-a3ef-42ce-a9d4-a235a0a1cb4c"
      },
      "source": [
        "t3.shape\n"
      ],
      "execution_count": 12,
      "outputs": [
        {
          "output_type": "execute_result",
          "data": {
            "text/plain": [
              "torch.Size([3, 4])"
            ]
          },
          "metadata": {
            "tags": []
          },
          "execution_count": 12
        }
      ]
    },
    {
      "cell_type": "code",
      "metadata": {
        "colab": {
          "base_uri": "https://localhost:8080/"
        },
        "id": "kn8FvmKtnJpB",
        "outputId": "8bf6ec72-f1bd-4300-effe-03c7d83ef3a5"
      },
      "source": [
        "t4 = torch.tensor([[1,2],[2.,4],[2,4]])\n",
        "t4"
      ],
      "execution_count": 13,
      "outputs": [
        {
          "output_type": "execute_result",
          "data": {
            "text/plain": [
              "tensor([[1., 2.],\n",
              "        [2., 4.],\n",
              "        [2., 4.]])"
            ]
          },
          "metadata": {
            "tags": []
          },
          "execution_count": 13
        }
      ]
    },
    {
      "cell_type": "markdown",
      "metadata": {
        "id": "b8MWShZcniUF"
      },
      "source": [
        "# Tensor operations and Gradients\n",
        "\n",
        "\n",
        "---\n",
        "\n",
        "\n",
        "\n",
        "---\n",
        "\n"
      ]
    },
    {
      "cell_type": "code",
      "metadata": {
        "colab": {
          "base_uri": "https://localhost:8080/"
        },
        "id": "4heCBcnNnY3D",
        "outputId": "97487872-0e2f-459c-b73a-61f8b117226f"
      },
      "source": [
        "# create tensors\n",
        "x = torch.tensor(3., requires_grad=True)\n",
        "w= torch.tensor(4., requires_grad=True)\n",
        "b = torch.tensor(5., requires_grad=True)\n",
        "x,w,b"
      ],
      "execution_count": 20,
      "outputs": [
        {
          "output_type": "execute_result",
          "data": {
            "text/plain": [
              "(tensor(3., requires_grad=True),\n",
              " tensor(4., requires_grad=True),\n",
              " tensor(5., requires_grad=True))"
            ]
          },
          "metadata": {
            "tags": []
          },
          "execution_count": 20
        }
      ]
    },
    {
      "cell_type": "code",
      "metadata": {
        "id": "IeUIAtMkn6ND",
        "colab": {
          "base_uri": "https://localhost:8080/"
        },
        "outputId": "f3a65516-9d63-49be-ff63-81a748e3ed17"
      },
      "source": [
        "# arithmetic operations\n",
        "y = w * x + b\n",
        "y"
      ],
      "execution_count": 21,
      "outputs": [
        {
          "output_type": "execute_result",
          "data": {
            "text/plain": [
              "tensor(17., grad_fn=<AddBackward0>)"
            ]
          },
          "metadata": {
            "tags": []
          },
          "execution_count": 21
        }
      ]
    },
    {
      "cell_type": "code",
      "metadata": {
        "id": "T1SS3806lmdR"
      },
      "source": [
        "# compute derivatives\n",
        "y.backward()"
      ],
      "execution_count": 22,
      "outputs": []
    },
    {
      "cell_type": "code",
      "metadata": {
        "colab": {
          "base_uri": "https://localhost:8080/"
        },
        "id": "2FjvrlrDmskd",
        "outputId": "213d41f6-4741-423f-c033-016724f1032d"
      },
      "source": [
        "# Display gradients\n",
        "print('dy/dx', x.grad)"
      ],
      "execution_count": 23,
      "outputs": [
        {
          "output_type": "stream",
          "text": [
            "dy/dx tensor(4.)\n"
          ],
          "name": "stdout"
        }
      ]
    },
    {
      "cell_type": "code",
      "metadata": {
        "colab": {
          "base_uri": "https://localhost:8080/"
        },
        "id": "sTCxxIjom1C5",
        "outputId": "3f495dff-e082-45d7-b4eb-a6ea950d506d"
      },
      "source": [
        "print('dy/dw',w.grad)"
      ],
      "execution_count": 24,
      "outputs": [
        {
          "output_type": "stream",
          "text": [
            "dy/dw tensor(3.)\n"
          ],
          "name": "stdout"
        }
      ]
    },
    {
      "cell_type": "code",
      "metadata": {
        "colab": {
          "base_uri": "https://localhost:8080/"
        },
        "id": "UCSBAAh3m4qx",
        "outputId": "df4aaa1c-6580-442e-f723-5148ded3b892"
      },
      "source": [
        "print('dy/db',b.grad)"
      ],
      "execution_count": 25,
      "outputs": [
        {
          "output_type": "stream",
          "text": [
            "dy/db tensor(1.)\n"
          ],
          "name": "stdout"
        }
      ]
    },
    {
      "cell_type": "markdown",
      "metadata": {
        "id": "hmjawsu_o3Mt"
      },
      "source": [
        "# Tensor Functions\n",
        "\n",
        "---\n",
        "\n",
        "\n",
        "\n",
        "---\n",
        "\n"
      ]
    },
    {
      "cell_type": "code",
      "metadata": {
        "colab": {
          "base_uri": "https://localhost:8080/"
        },
        "id": "uNfC3QO6m9n8",
        "outputId": "f0705f54-50ca-4df7-b0ff-c6d6c4d06f82"
      },
      "source": [
        "t6 = torch.full((3,2),44)\n",
        "t6"
      ],
      "execution_count": 27,
      "outputs": [
        {
          "output_type": "execute_result",
          "data": {
            "text/plain": [
              "tensor([[44, 44],\n",
              "        [44, 44],\n",
              "        [44, 44]])"
            ]
          },
          "metadata": {
            "tags": []
          },
          "execution_count": 27
        }
      ]
    },
    {
      "cell_type": "code",
      "metadata": {
        "colab": {
          "base_uri": "https://localhost:8080/"
        },
        "id": "8bvfZ1dJo_yW",
        "outputId": "b4768b46-8e9f-4b51-ad21-11892e7396aa"
      },
      "source": [
        "t7 = torch.cat((t6,t6))\n",
        "t7"
      ],
      "execution_count": 29,
      "outputs": [
        {
          "output_type": "execute_result",
          "data": {
            "text/plain": [
              "tensor([[44, 44],\n",
              "        [44, 44],\n",
              "        [44, 44],\n",
              "        [44, 44],\n",
              "        [44, 44],\n",
              "        [44, 44]])"
            ]
          },
          "metadata": {
            "tags": []
          },
          "execution_count": 29
        }
      ]
    },
    {
      "cell_type": "code",
      "metadata": {
        "id": "yb3vejympIPZ"
      },
      "source": [
        "t8 = torch.sin(t7)"
      ],
      "execution_count": 30,
      "outputs": []
    },
    {
      "cell_type": "code",
      "metadata": {
        "colab": {
          "base_uri": "https://localhost:8080/"
        },
        "id": "goGpAWFwpT11",
        "outputId": "0546b07d-9b83-4606-c992-f11e3f1b230a"
      },
      "source": [
        "t8"
      ],
      "execution_count": 31,
      "outputs": [
        {
          "output_type": "execute_result",
          "data": {
            "text/plain": [
              "tensor([[0.0177, 0.0177],\n",
              "        [0.0177, 0.0177],\n",
              "        [0.0177, 0.0177],\n",
              "        [0.0177, 0.0177],\n",
              "        [0.0177, 0.0177],\n",
              "        [0.0177, 0.0177]])"
            ]
          },
          "metadata": {
            "tags": []
          },
          "execution_count": 31
        }
      ]
    },
    {
      "cell_type": "code",
      "metadata": {
        "id": "iOj9CwiApUVD"
      },
      "source": [
        "t9 = torch.tan(t7)"
      ],
      "execution_count": 32,
      "outputs": []
    },
    {
      "cell_type": "code",
      "metadata": {
        "colab": {
          "base_uri": "https://localhost:8080/"
        },
        "id": "H94CMCJ9pW5v",
        "outputId": "0a5809f7-aaff-447d-e7ff-9d6e1b2a38a3"
      },
      "source": [
        "t9"
      ],
      "execution_count": 33,
      "outputs": [
        {
          "output_type": "execute_result",
          "data": {
            "text/plain": [
              "tensor([[0.0177, 0.0177],\n",
              "        [0.0177, 0.0177],\n",
              "        [0.0177, 0.0177],\n",
              "        [0.0177, 0.0177],\n",
              "        [0.0177, 0.0177],\n",
              "        [0.0177, 0.0177]])"
            ]
          },
          "metadata": {
            "tags": []
          },
          "execution_count": 33
        }
      ]
    },
    {
      "cell_type": "code",
      "metadata": {
        "id": "3vPhTXJOpXou"
      },
      "source": [
        "t99= t8.reshape(3,2,2)"
      ],
      "execution_count": 34,
      "outputs": []
    },
    {
      "cell_type": "code",
      "metadata": {
        "colab": {
          "base_uri": "https://localhost:8080/"
        },
        "id": "MXqmcEQzpeqD",
        "outputId": "0e37fc8d-e947-4503-86f3-ee6c73b60ae3"
      },
      "source": [
        "t99"
      ],
      "execution_count": 35,
      "outputs": [
        {
          "output_type": "execute_result",
          "data": {
            "text/plain": [
              "tensor([[[0.0177, 0.0177],\n",
              "         [0.0177, 0.0177]],\n",
              "\n",
              "        [[0.0177, 0.0177],\n",
              "         [0.0177, 0.0177]],\n",
              "\n",
              "        [[0.0177, 0.0177],\n",
              "         [0.0177, 0.0177]]])"
            ]
          },
          "metadata": {
            "tags": []
          },
          "execution_count": 35
        }
      ]
    },
    {
      "cell_type": "markdown",
      "metadata": {
        "id": "xiXbPaMWppYA"
      },
      "source": [
        "#Interoperability with Numpy\n",
        "\n",
        "---\n",
        "\n",
        "\n",
        "\n",
        "---\n",
        "\n"
      ]
    },
    {
      "cell_type": "code",
      "metadata": {
        "colab": {
          "base_uri": "https://localhost:8080/"
        },
        "id": "dmxtrRlPpfn1",
        "outputId": "0d2e9416-9666-48fd-f51a-0be65a62d12b"
      },
      "source": [
        "import numpy as np\n",
        "x= np.array([[1,2.],[3,4]])\n",
        "x"
      ],
      "execution_count": 43,
      "outputs": [
        {
          "output_type": "execute_result",
          "data": {
            "text/plain": [
              "array([[1., 2.],\n",
              "       [3., 4.]])"
            ]
          },
          "metadata": {
            "tags": []
          },
          "execution_count": 43
        }
      ]
    },
    {
      "cell_type": "code",
      "metadata": {
        "colab": {
          "base_uri": "https://localhost:8080/"
        },
        "id": "94I_4Utop89h",
        "outputId": "2f8a2a76-60ad-4a7d-c9e9-006c908153a5"
      },
      "source": [
        "x.dtype"
      ],
      "execution_count": 44,
      "outputs": [
        {
          "output_type": "execute_result",
          "data": {
            "text/plain": [
              "dtype('float64')"
            ]
          },
          "metadata": {
            "tags": []
          },
          "execution_count": 44
        }
      ]
    },
    {
      "cell_type": "code",
      "metadata": {
        "colab": {
          "base_uri": "https://localhost:8080/"
        },
        "id": "51jM5FKnp-5l",
        "outputId": "cc56e803-2cc4-454b-aa21-c0abca969070"
      },
      "source": [
        "x.shape"
      ],
      "execution_count": 45,
      "outputs": [
        {
          "output_type": "execute_result",
          "data": {
            "text/plain": [
              "(2, 2)"
            ]
          },
          "metadata": {
            "tags": []
          },
          "execution_count": 45
        }
      ]
    },
    {
      "cell_type": "code",
      "metadata": {
        "id": "SAQBfxzkqAFj"
      },
      "source": [
        "y = torch.from_numpy(x)"
      ],
      "execution_count": 46,
      "outputs": []
    },
    {
      "cell_type": "code",
      "metadata": {
        "colab": {
          "base_uri": "https://localhost:8080/"
        },
        "id": "yTaVzTh1qGCY",
        "outputId": "85b1e377-9d49-4d69-c947-63a21b6af4f1"
      },
      "source": [
        "y"
      ],
      "execution_count": 47,
      "outputs": [
        {
          "output_type": "execute_result",
          "data": {
            "text/plain": [
              "tensor([[1., 2.],\n",
              "        [3., 4.]], dtype=torch.float64)"
            ]
          },
          "metadata": {
            "tags": []
          },
          "execution_count": 47
        }
      ]
    },
    {
      "cell_type": "code",
      "metadata": {
        "colab": {
          "base_uri": "https://localhost:8080/"
        },
        "id": "9ApwJEmXqHAF",
        "outputId": "a36bf513-8795-428f-b09d-3d22ce7291b2"
      },
      "source": [
        "y.dtype"
      ],
      "execution_count": 48,
      "outputs": [
        {
          "output_type": "execute_result",
          "data": {
            "text/plain": [
              "torch.float64"
            ]
          },
          "metadata": {
            "tags": []
          },
          "execution_count": 48
        }
      ]
    },
    {
      "cell_type": "code",
      "metadata": {
        "colab": {
          "base_uri": "https://localhost:8080/"
        },
        "id": "hEMCKSegqIPk",
        "outputId": "8b434562-c015-42b9-d58e-0f9ef35cdba5"
      },
      "source": [
        "y.shape"
      ],
      "execution_count": 49,
      "outputs": [
        {
          "output_type": "execute_result",
          "data": {
            "text/plain": [
              "torch.Size([2, 2])"
            ]
          },
          "metadata": {
            "tags": []
          },
          "execution_count": 49
        }
      ]
    },
    {
      "cell_type": "code",
      "metadata": {
        "colab": {
          "base_uri": "https://localhost:8080/"
        },
        "id": "fHbFbD-FqIyn",
        "outputId": "660beb9e-6d8d-474d-868f-37ac5a6940e4"
      },
      "source": [
        "z= y.numpy()\n",
        "z"
      ],
      "execution_count": 50,
      "outputs": [
        {
          "output_type": "execute_result",
          "data": {
            "text/plain": [
              "array([[1., 2.],\n",
              "       [3., 4.]])"
            ]
          },
          "metadata": {
            "tags": []
          },
          "execution_count": 50
        }
      ]
    },
    {
      "cell_type": "code",
      "metadata": {
        "colab": {
          "base_uri": "https://localhost:8080/"
        },
        "id": "KALFUaHgqeT1",
        "outputId": "8e369fbb-81a4-4a7a-98db-669d20d3d5f9"
      },
      "source": [
        "type(z)"
      ],
      "execution_count": 51,
      "outputs": [
        {
          "output_type": "execute_result",
          "data": {
            "text/plain": [
              "numpy.ndarray"
            ]
          },
          "metadata": {
            "tags": []
          },
          "execution_count": 51
        }
      ]
    }
  ]
}