{
  "nbformat": 4,
  "nbformat_minor": 0,
  "metadata": {
    "kernelspec": {
      "display_name": "Python 3",
      "language": "python",
      "name": "python3"
    },
    "language_info": {
      "codemirror_mode": {
        "name": "ipython",
        "version": 3
      },
      "file_extension": ".py",
      "mimetype": "text/x-python",
      "name": "python",
      "nbconvert_exporter": "python",
      "pygments_lexer": "ipython3",
      "version": "3.8.5"
    },
    "colab": {
      "name": "01-tensor-operations.ipynb",
      "provenance": [],
      "collapsed_sections": []
    },
    "accelerator": "GPU"
  },
  "cells": [
    {
      "cell_type": "markdown",
      "metadata": {
        "id": "lknqupBrWgUs"
      },
      "source": [
        "#*                 Pytorch Five Frequently Used Functions *\n",
        "\n",
        "---\n",
        "\n",
        "\n",
        "\n",
        "---\n",
        "\n"
      ]
    },
    {
      "cell_type": "markdown",
      "metadata": {
        "id": "5NVF6GlKE74b"
      },
      "source": [
        "\n",
        "\n",
        "\n",
        "\n",
        "##PyTorch\n",
        "PyTorch Tutorial is designed for both beginners and professionals. Our Tutorial provides all the basic and advanced concepts of Deep learning, such as deep neural network and image processing.\n",
        "\n",
        "PyTorch is a framework of deep learning, and it is a Python machine learning package based on Torch. This tutorial is designed in such a way that we can easily implement deep learning project on PyTorch in a very efficient way.\n",
        "\n",
        "- is_tensor\n",
        "- is_nonzero\n",
        "- numel\n",
        "- zeros\n",
        "- arange\n",
        "\n",
        "Before we begin, let's install and import PyTorch"
      ]
    },
    {
      "cell_type": "code",
      "metadata": {
        "id": "KHnsWgfcE74c"
      },
      "source": [
        "# Import torch and other required modules\n",
        "import torch"
      ],
      "execution_count": 46,
      "outputs": []
    },
    {
      "cell_type": "markdown",
      "metadata": {
        "id": "BUMSR7LHE74d"
      },
      "source": [
        "## Function 1 - torch.is_tensor(obj)\n",
        "\n",
        "Returns True if obj is a PyTorch tensor.\n",
        "\n",
        "This function is simply doing isinstance(obj, Tensor). Using that isinstance check is better for typechecking with mypy, and more explicit - so it’s recommended to use that instead of is_tensor."
      ]
    },
    {
      "cell_type": "markdown",
      "metadata": {
        "id": "WfzhtPUFIoS9"
      },
      "source": [
        "## Example 1 -Working"
      ]
    },
    {
      "cell_type": "code",
      "metadata": {
        "colab": {
          "base_uri": "https://localhost:8080/"
        },
        "id": "CCW5H858IIsE",
        "outputId": "6295a1b9-2f2e-493b-8610-e9a18d178370"
      },
      "source": [
        "# creating a tensor object\n",
        "a = torch.tensor([1,2,3.])\n",
        "print(a)\n",
        "a.dtype"
      ],
      "execution_count": 47,
      "outputs": [
        {
          "output_type": "stream",
          "text": [
            "tensor([1., 2., 3.])\n"
          ],
          "name": "stdout"
        },
        {
          "output_type": "execute_result",
          "data": {
            "text/plain": [
              "torch.float32"
            ]
          },
          "metadata": {
            "tags": []
          },
          "execution_count": 47
        }
      ]
    },
    {
      "cell_type": "code",
      "metadata": {
        "colab": {
          "base_uri": "https://localhost:8080/"
        },
        "id": "U1_MLo8FE74d",
        "outputId": "0e9fde23-dbab-4788-df1b-e3c8ac4ab4e1"
      },
      "source": [
        "# Example 1 - working \n",
        "torch.is_tensor(a)\n"
      ],
      "execution_count": 48,
      "outputs": [
        {
          "output_type": "execute_result",
          "data": {
            "text/plain": [
              "True"
            ]
          },
          "metadata": {
            "tags": []
          },
          "execution_count": 48
        }
      ]
    },
    {
      "cell_type": "markdown",
      "metadata": {
        "id": "swCGr18PE74e"
      },
      "source": [
        "In the above example a 1-d tensor is given to the function is_tensor() to check that either is return true or false. And as the input object is a tensor object, the function returned true."
      ]
    },
    {
      "cell_type": "markdown",
      "metadata": {
        "id": "kDU6cXFdJGlN"
      },
      "source": [
        "## Example 2 - working"
      ]
    },
    {
      "cell_type": "code",
      "metadata": {
        "colab": {
          "base_uri": "https://localhost:8080/"
        },
        "id": "79wbiCUbE74e",
        "outputId": "d0554330-40b9-4e72-df31-67cb30e365c3"
      },
      "source": [
        "# creating a 2-d tensor object\n",
        "a2 = torch.tensor([[1,1.,2,2],[3,3,4,4]])\n",
        "print(a2)\n",
        "a2.dtype\n"
      ],
      "execution_count": 49,
      "outputs": [
        {
          "output_type": "stream",
          "text": [
            "tensor([[1., 1., 2., 2.],\n",
            "        [3., 3., 4., 4.]])\n"
          ],
          "name": "stdout"
        },
        {
          "output_type": "execute_result",
          "data": {
            "text/plain": [
              "torch.float32"
            ]
          },
          "metadata": {
            "tags": []
          },
          "execution_count": 49
        }
      ]
    },
    {
      "cell_type": "code",
      "metadata": {
        "colab": {
          "base_uri": "https://localhost:8080/"
        },
        "id": "VXj6UsBwJ7M8",
        "outputId": "c00e214d-1246-4bb5-a91f-cb7e58c145f7"
      },
      "source": [
        "torch.is_tensor(a2)"
      ],
      "execution_count": 50,
      "outputs": [
        {
          "output_type": "execute_result",
          "data": {
            "text/plain": [
              "True"
            ]
          },
          "metadata": {
            "tags": []
          },
          "execution_count": 50
        }
      ]
    },
    {
      "cell_type": "markdown",
      "metadata": {
        "id": "c-hLdlGFE74e"
      },
      "source": [
        "In this second example a 2d tensor object is passed as an argument to the fuction and the function returned true as it is a tensor object."
      ]
    },
    {
      "cell_type": "markdown",
      "metadata": {
        "id": "eSjykWT_KaCs"
      },
      "source": [
        "## Example 3 - breaking \n",
        "(to illustrate when it breaks)"
      ]
    },
    {
      "cell_type": "code",
      "metadata": {
        "colab": {
          "base_uri": "https://localhost:8080/",
          "height": 163
        },
        "id": "rvPGoRDqKrp2",
        "outputId": "7493b272-ef56-4c3d-e3c6-74bd4d3f0c0d"
      },
      "source": [
        "torch.is_tensor(i)"
      ],
      "execution_count": 51,
      "outputs": [
        {
          "output_type": "error",
          "ename": "NameError",
          "evalue": "ignored",
          "traceback": [
            "\u001b[0;31m---------------------------------------------------------------------------\u001b[0m",
            "\u001b[0;31mNameError\u001b[0m                                 Traceback (most recent call last)",
            "\u001b[0;32m<ipython-input-51-c9332c84e2d1>\u001b[0m in \u001b[0;36m<module>\u001b[0;34m()\u001b[0m\n\u001b[0;32m----> 1\u001b[0;31m \u001b[0mtorch\u001b[0m\u001b[0;34m.\u001b[0m\u001b[0mis_tensor\u001b[0m\u001b[0;34m(\u001b[0m\u001b[0mi\u001b[0m\u001b[0;34m)\u001b[0m\u001b[0;34m\u001b[0m\u001b[0;34m\u001b[0m\u001b[0m\n\u001b[0m",
            "\u001b[0;31mNameError\u001b[0m: name 'i' is not defined"
          ]
        }
      ]
    },
    {
      "cell_type": "markdown",
      "metadata": {
        "id": "E-6jisgVLlUj"
      },
      "source": [
        "### Explaination\n",
        "This example demostrates the conditon when this function is not working, As we input an un defined object."
      ]
    },
    {
      "cell_type": "markdown",
      "metadata": {
        "id": "0Zhp8B_KE74f"
      },
      "source": [
        "This function is used to check either an object is a tensor object or not."
      ]
    },
    {
      "cell_type": "markdown",
      "metadata": {
        "id": "aphKFl_gE74f"
      },
      "source": [
        "Let's save our work using Jovian before continuing."
      ]
    },
    {
      "cell_type": "code",
      "metadata": {
        "id": "4BSmenkAE74g"
      },
      "source": [
        "!pip install jovian --upgrade --quiet"
      ],
      "execution_count": null,
      "outputs": []
    },
    {
      "cell_type": "code",
      "metadata": {
        "id": "oWuwT1mXE74g"
      },
      "source": [
        "import jovian"
      ],
      "execution_count": null,
      "outputs": []
    },
    {
      "cell_type": "markdown",
      "metadata": {
        "id": "r-qIagS4E74h"
      },
      "source": [
        "## Function 2 - is_nonzero\n",
        "\n",
        "torch.is_nonzero(input) -> (bool)\n",
        "\n",
        "Returns True if the input is a single element tensor which is not equal to zero after type conversions. i.e. not equal to torch.tensor([0.]) or torch.tensor([0]) or torch.tensor([False]). Throws a RuntimeError if torch.numel() != 1 (even in case of sparse tensors).\n",
        "\n",
        "output - (bool)"
      ]
    },
    {
      "cell_type": "markdown",
      "metadata": {
        "id": "VwQHRxSwM_D2"
      },
      "source": [
        "### Example 1 - working"
      ]
    },
    {
      "cell_type": "code",
      "metadata": {
        "id": "N2T6_oR-E74h"
      },
      "source": [
        "# creating a tensor\n",
        "b= torch.tensor([0.])\n",
        "torch.is_nonzero(b)"
      ],
      "execution_count": null,
      "outputs": []
    },
    {
      "cell_type": "markdown",
      "metadata": {
        "id": "Nqb8DMLNE74h"
      },
      "source": [
        "Explanation about example\n",
        "We passed a tensor object that is zero object and the function is return False."
      ]
    },
    {
      "cell_type": "markdown",
      "metadata": {
        "id": "67ZJlJAiPbaB"
      },
      "source": [
        "### Example 2 - working"
      ]
    },
    {
      "cell_type": "code",
      "metadata": {
        "id": "pLbYoQzDE74h"
      },
      "source": [
        "#creating a tensor\n",
        "b2 = torch.tensor([5])\n",
        "torch.is_nonzero(b2)"
      ],
      "execution_count": null,
      "outputs": []
    },
    {
      "cell_type": "markdown",
      "metadata": {
        "id": "1b2e35UhE74h"
      },
      "source": [
        "Explanation about example\n",
        "\n",
        "We passed an tensor object having nonzero value, the function returned True."
      ]
    },
    {
      "cell_type": "markdown",
      "metadata": {
        "id": "fpmeQOThQG_J"
      },
      "source": [
        "### Example 3 - breaking (to illustrate when it breaks)"
      ]
    },
    {
      "cell_type": "code",
      "metadata": {
        "id": "csE4j8r_E74i"
      },
      "source": [
        "torch.is_nonzero(spacex)"
      ],
      "execution_count": null,
      "outputs": []
    },
    {
      "cell_type": "markdown",
      "metadata": {
        "id": "aJKfMA7FE74i"
      },
      "source": [
        "Explanation about example\n",
        " \n",
        " we passed a undefined object into function and the function breaks with NameError: name not  defined."
      ]
    },
    {
      "cell_type": "markdown",
      "metadata": {
        "id": "fvxayldbE74i"
      },
      "source": [
        "We can use this function Tensor.is_nonzero() to check either our tensor contain zero or not."
      ]
    },
    {
      "cell_type": "code",
      "metadata": {
        "id": "ubNAx22BE74i"
      },
      "source": [
        "jovian.commit(project='01-tensor-operations')"
      ],
      "execution_count": null,
      "outputs": []
    },
    {
      "cell_type": "markdown",
      "metadata": {
        "id": "fsLpyIhjE74j"
      },
      "source": [
        "\n",
        "\n",
        "\n",
        "## Function 3 - numel\n",
        "\n",
        "torch.numel(input) → int\n",
        "\n",
        "Returns the total number of elements in the input tensor.\n",
        "\n",
        "output: int"
      ]
    },
    {
      "cell_type": "markdown",
      "metadata": {
        "id": "ocKdO3hwRQ8M"
      },
      "source": [
        "### Example 1"
      ]
    },
    {
      "cell_type": "code",
      "metadata": {
        "id": "zmbswksGE74j"
      },
      "source": [
        "c = torch.randn(1, 2, 3, 4, 5)\n",
        "torch.numel(c)"
      ],
      "execution_count": null,
      "outputs": []
    },
    {
      "cell_type": "markdown",
      "metadata": {
        "id": "-cuo4kSCE74j"
      },
      "source": [
        "Explanation about example\n",
        "we passed a tensor and the function returns the total number of elements in the tensor"
      ]
    },
    {
      "cell_type": "markdown",
      "metadata": {
        "id": "NXrXqCvPRwvg"
      },
      "source": [
        "###  Example 2 - working"
      ]
    },
    {
      "cell_type": "code",
      "metadata": {
        "id": "8Tx4WiLiE74j"
      },
      "source": [
        "c = torch.zeros(4,4)\n",
        "torch.numel(c)"
      ],
      "execution_count": null,
      "outputs": []
    },
    {
      "cell_type": "markdown",
      "metadata": {
        "id": "i8dLGdfkE74k"
      },
      "source": [
        "Explanation about example\n",
        "\n",
        "We passed tensor object and the fucntion returned the total number of elements in the tensor which is 16."
      ]
    },
    {
      "cell_type": "markdown",
      "metadata": {
        "id": "tZt_Qtu6SGRW"
      },
      "source": [
        "### Example 3 - breaking (to illustrate when it breaks)"
      ]
    },
    {
      "cell_type": "code",
      "metadata": {
        "id": "2cBmUAHTE74k"
      },
      "source": [
        "torch.numel(torch.tensor(torch.to_numpy(1,2)))"
      ],
      "execution_count": null,
      "outputs": []
    },
    {
      "cell_type": "markdown",
      "metadata": {
        "id": "3PuQALALE74k"
      },
      "source": [
        "Explanation about example\n",
        " we passed a non function to the fuction torch.numel() and it returns error because we did not passed a tensor."
      ]
    },
    {
      "cell_type": "markdown",
      "metadata": {
        "id": "uvBo_NnaE74k"
      },
      "source": [
        "We can use this function to check the number of elements in the tensor. It is very useful."
      ]
    },
    {
      "cell_type": "code",
      "metadata": {
        "id": "xn60hLCfE74k"
      },
      "source": [
        "jovian.commit(project='01-tensor-operations')"
      ],
      "execution_count": null,
      "outputs": []
    },
    {
      "cell_type": "markdown",
      "metadata": {
        "id": "HmF2Fq-WE74l"
      },
      "source": [
        "## Function 4 - Torch.zeros\n",
        "\n",
        "\n",
        "Returns a tensor filled with the scalar value 0, with the shape defined by the variable argument size.\n",
        "\n",
        "size (int...) – a sequence of integers defining the shape of the output tensor. Can be a variable number of arguments or a collection like a list or tuple.\n",
        "\n",
        "output: tensor"
      ]
    },
    {
      "cell_type": "markdown",
      "metadata": {
        "id": "aFBAJoHYTXp2"
      },
      "source": [
        "### Example 1 - working"
      ]
    },
    {
      "cell_type": "code",
      "metadata": {
        "id": "6og2yEHtE74l"
      },
      "source": [
        "torch.zeros(2, 3)"
      ],
      "execution_count": null,
      "outputs": []
    },
    {
      "cell_type": "markdown",
      "metadata": {
        "id": "HgmFZEsaE74l"
      },
      "source": [
        "We passed  the size of the tensor (2,3) and the function returns a zero's tensor with given size."
      ]
    },
    {
      "cell_type": "markdown",
      "metadata": {
        "id": "58z-AK6sTsTq"
      },
      "source": [
        "### Example 2 - working"
      ]
    },
    {
      "cell_type": "code",
      "metadata": {
        "id": "CG_Wv2BwE74l"
      },
      "source": [
        "torch.zeros(5,4,5,6)"
      ],
      "execution_count": null,
      "outputs": []
    },
    {
      "cell_type": "markdown",
      "metadata": {
        "id": "KABmLs2iE74m"
      },
      "source": [
        "We passed the size of 4-d tensor and the function returned a 4-d zero tensor."
      ]
    },
    {
      "cell_type": "markdown",
      "metadata": {
        "id": "8Caz41uxUAAT"
      },
      "source": [
        "### Example 3 - breaking (to illustrate when it breaks)"
      ]
    },
    {
      "cell_type": "code",
      "metadata": {
        "id": "5eFjXHckE74m"
      },
      "source": [
        "torch.zeros(torch.zeros(torch.zeros(2,3)))"
      ],
      "execution_count": null,
      "outputs": []
    },
    {
      "cell_type": "markdown",
      "metadata": {
        "id": "ll9Yz1jLE74n"
      },
      "source": [
        "We passed couple of functions instead of size and the function returns error."
      ]
    },
    {
      "cell_type": "markdown",
      "metadata": {
        "id": "kpuP3-w9E74n"
      },
      "source": [
        "we can use this function when we required zeros tensor in mathematics."
      ]
    },
    {
      "cell_type": "code",
      "metadata": {
        "id": "LEGRE80ME74n"
      },
      "source": [
        "jovian.commit(project='01-tensor-operations')"
      ],
      "execution_count": null,
      "outputs": []
    },
    {
      "cell_type": "markdown",
      "metadata": {
        "id": "JxvVWW0vE74o"
      },
      "source": [
        "## Function 5 - Torch.arange()\n",
        "\n",
        "Returns a 1-D tensor of size \\left\\lceil \\frac{\\text{end} - \\text{start}}{\\text{step}} \\right\\rceil⌈ \n",
        "step\n",
        "end−start\n",
        "​\t\n",
        " ⌉ with values from the interval [start, end) taken with common difference step beginning from start.\n",
        "\n",
        "Note that non-integer step is subject to floating point rounding errors when comparing against end; to avoid inconsistency, we advise adding a small epsilon to end in such cases.\n"
      ]
    },
    {
      "cell_type": "markdown",
      "metadata": {
        "id": "sGv5lRz2U2n9"
      },
      "source": [
        "### Example 1 - working\n"
      ]
    },
    {
      "cell_type": "code",
      "metadata": {
        "id": "96YP2ghKE74o"
      },
      "source": [
        "torch.arange(10)"
      ],
      "execution_count": null,
      "outputs": []
    },
    {
      "cell_type": "markdown",
      "metadata": {
        "id": "n7gWeoOJE74o"
      },
      "source": [
        "we input a int number and the function returned a tensor with elements form zero to one less than the passed number."
      ]
    },
    {
      "cell_type": "markdown",
      "metadata": {
        "id": "WpotBuVsVTOY"
      },
      "source": [
        "### Example 2 - working\n"
      ]
    },
    {
      "cell_type": "code",
      "metadata": {
        "id": "e9H24o_fE74o"
      },
      "source": [
        "torch.arange(1, 2.5, 0.5)"
      ],
      "execution_count": null,
      "outputs": []
    },
    {
      "cell_type": "markdown",
      "metadata": {
        "id": "-b8G8Pt5E74p"
      },
      "source": [
        "we passed the arugument having range from 1 to 2.5 and a difference of 0.5, and the function returned all objects with same difference within range."
      ]
    },
    {
      "cell_type": "markdown",
      "metadata": {
        "id": "1FdpMic2Vp6v"
      },
      "source": [
        "### Example 3 - breaking (to illustrate when it breaks)\n"
      ]
    },
    {
      "cell_type": "code",
      "metadata": {
        "id": "5ksKAdXfE74p"
      },
      "source": [
        "torch.arange(torch.tensor())"
      ],
      "execution_count": null,
      "outputs": []
    },
    {
      "cell_type": "markdown",
      "metadata": {
        "id": "tDCld381E74p"
      },
      "source": [
        "we passed function instead of size argument and the fucntion returen error."
      ]
    },
    {
      "cell_type": "markdown",
      "metadata": {
        "id": "U0RKJgsPE74p"
      },
      "source": [
        "this function is very useful to get a range of specific length and with specific difference."
      ]
    },
    {
      "cell_type": "code",
      "metadata": {
        "id": "dSqzzWsHE74p"
      },
      "source": [
        "jovian.commit(project='01-tensor-operations')"
      ],
      "execution_count": null,
      "outputs": []
    },
    {
      "cell_type": "markdown",
      "metadata": {
        "id": "wwADZosDE74q"
      },
      "source": [
        "## Conclusion\n",
        "\n",
        "We have covered five very useful pytorch tensor fuctions using pytorch documenttion. These functions are very useful and we learned many other functions also."
      ]
    },
    {
      "cell_type": "markdown",
      "metadata": {
        "id": "D8jb7-iME74q"
      },
      "source": [
        "## Reference Links\n",
        "Provide links to your references and other interesting articles about tensors\n",
        "* Official documentation for tensor operations: https://pytorch.org/docs/stable/torch.html\n",
        "* ..."
      ]
    },
    {
      "cell_type": "code",
      "metadata": {
        "id": "wiSF9JTGE74q"
      },
      "source": [
        "jovian.commit(project='01-tensor-operations')"
      ],
      "execution_count": null,
      "outputs": []
    }
  ]
}