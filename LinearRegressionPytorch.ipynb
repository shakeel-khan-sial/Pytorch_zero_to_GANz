{
  "nbformat": 4,
  "nbformat_minor": 0,
  "metadata": {
    "colab": {
      "name": "LinearRegressionPytorch.ipynb",
      "provenance": [],
      "collapsed_sections": []
    },
    "kernelspec": {
      "name": "python3",
      "display_name": "Python 3"
    },
    "language_info": {
      "name": "python"
    },
    "accelerator": "GPU"
  },
  "cells": [
    {
      "cell_type": "markdown",
      "metadata": {
        "id": "BT8Tw0lMF8YN"
      },
      "source": [
        "#Linear regression using PyTorch built-ins\n",
        "\n",
        "\n",
        "We've implemented linear regression & gradient descent model using some basic tensor operations. However, since this is a common pattern in deep learning, PyTorch provides several built-in functions and classes to make it easy to create and train models with just a few lines of code.\n",
        "\n",
        "Let's begin by importing the torch.nn package from PyTorch, which contains utility classes for building neural networks."
      ]
    },
    {
      "cell_type": "code",
      "metadata": {
        "id": "M5En-GwpFPiD"
      },
      "source": [
        "import torch"
      ],
      "execution_count": 54,
      "outputs": []
    },
    {
      "cell_type": "code",
      "metadata": {
        "id": "1i-rzr1uGLCC"
      },
      "source": [
        "import numpy as np"
      ],
      "execution_count": 55,
      "outputs": []
    },
    {
      "cell_type": "code",
      "metadata": {
        "id": "8F2P3ebtGMRz"
      },
      "source": [
        "import torch.nn as nn"
      ],
      "execution_count": 56,
      "outputs": []
    },
    {
      "cell_type": "code",
      "metadata": {
        "id": "Hp-dlJHtGOS4"
      },
      "source": [
        "#Input (temp, rainfall, humidity)\n",
        "inputs = np.array([[73, 67, 43], \n",
        "                   [91, 88, 64], \n",
        "                   [87, 134, 58], \n",
        "                   [102, 43, 37], \n",
        "                   [69, 96, 70], \n",
        "                   [74, 66, 43], \n",
        "                   [91, 87, 65], \n",
        "                   [88, 134, 59], \n",
        "                   [101, 44, 37], \n",
        "                   [68, 96, 71], \n",
        "                   [73, 66, 44], \n",
        "                   [92, 87, 64], \n",
        "                   [87, 135, 57], \n",
        "                   [103, 43, 36], \n",
        "                   [68, 97, 70]], \n",
        "                  dtype='float32')\n",
        "\n",
        "# Targets (apples, oranges)\n",
        "targets = np.array([[56, 70], \n",
        "                    [81, 101], \n",
        "                    [119, 133], \n",
        "                    [22, 37], \n",
        "                    [103, 119],\n",
        "                    [57, 69], \n",
        "                    [80, 102], \n",
        "                    [118, 132], \n",
        "                    [21, 38], \n",
        "                    [104, 118], \n",
        "                    [57, 69], \n",
        "                    [82, 100], \n",
        "                    [118, 134], \n",
        "                    [20, 38], \n",
        "                    [102, 120]], \n",
        "                   dtype='float32')\n",
        "\n",
        "inputs = torch.from_numpy(inputs)\n",
        "targets = torch.from_numpy(targets)"
      ],
      "execution_count": 57,
      "outputs": []
    },
    {
      "cell_type": "code",
      "metadata": {
        "colab": {
          "base_uri": "https://localhost:8080/"
        },
        "id": "Q690qfgDGV9s",
        "outputId": "659f0cfa-8bfa-4914-f926-562d71f54ea6"
      },
      "source": [
        "inputs"
      ],
      "execution_count": 58,
      "outputs": [
        {
          "output_type": "execute_result",
          "data": {
            "text/plain": [
              "tensor([[ 73.,  67.,  43.],\n",
              "        [ 91.,  88.,  64.],\n",
              "        [ 87., 134.,  58.],\n",
              "        [102.,  43.,  37.],\n",
              "        [ 69.,  96.,  70.],\n",
              "        [ 74.,  66.,  43.],\n",
              "        [ 91.,  87.,  65.],\n",
              "        [ 88., 134.,  59.],\n",
              "        [101.,  44.,  37.],\n",
              "        [ 68.,  96.,  71.],\n",
              "        [ 73.,  66.,  44.],\n",
              "        [ 92.,  87.,  64.],\n",
              "        [ 87., 135.,  57.],\n",
              "        [103.,  43.,  36.],\n",
              "        [ 68.,  97.,  70.]])"
            ]
          },
          "metadata": {
            "tags": []
          },
          "execution_count": 58
        }
      ]
    },
    {
      "cell_type": "code",
      "metadata": {
        "colab": {
          "base_uri": "https://localhost:8080/"
        },
        "id": "AuAh6QmFGW4A",
        "outputId": "23a71f68-9c37-4265-858b-2a2e1632ff76"
      },
      "source": [
        "targets"
      ],
      "execution_count": 59,
      "outputs": [
        {
          "output_type": "execute_result",
          "data": {
            "text/plain": [
              "tensor([[ 56.,  70.],\n",
              "        [ 81., 101.],\n",
              "        [119., 133.],\n",
              "        [ 22.,  37.],\n",
              "        [103., 119.],\n",
              "        [ 57.,  69.],\n",
              "        [ 80., 102.],\n",
              "        [118., 132.],\n",
              "        [ 21.,  38.],\n",
              "        [104., 118.],\n",
              "        [ 57.,  69.],\n",
              "        [ 82., 100.],\n",
              "        [118., 134.],\n",
              "        [ 20.,  38.],\n",
              "        [102., 120.]])"
            ]
          },
          "metadata": {
            "tags": []
          },
          "execution_count": 59
        }
      ]
    },
    {
      "cell_type": "markdown",
      "metadata": {
        "id": "dGV2RsZqGcaO"
      },
      "source": [
        "We are using 15 training examples to illustrate how to work with large datasets in small batches.\n",
        "\n"
      ]
    },
    {
      "cell_type": "markdown",
      "metadata": {
        "id": "Xm-oW-z8GebS"
      },
      "source": [
        "#Dataset and DataLoader\n",
        "\n",
        "We'll create a TensorDataset, which allows access to rows from inputs and targets as tuples, and provides standard APIs for working with many different types of datasets in PyTorch."
      ]
    },
    {
      "cell_type": "code",
      "metadata": {
        "id": "g1fzmpP-GZfD"
      },
      "source": [
        "from torch.utils.data import TensorDataset"
      ],
      "execution_count": 60,
      "outputs": []
    },
    {
      "cell_type": "code",
      "metadata": {
        "colab": {
          "base_uri": "https://localhost:8080/"
        },
        "id": "k1Mu8d5JGqiD",
        "outputId": "521b1b66-f83e-4d95-a311-054daf217fc5"
      },
      "source": [
        "#define dataset\n",
        "train_ds = TensorDataset(inputs,targets)\n",
        "train_ds[0:3]"
      ],
      "execution_count": 61,
      "outputs": [
        {
          "output_type": "execute_result",
          "data": {
            "text/plain": [
              "(tensor([[ 73.,  67.,  43.],\n",
              "         [ 91.,  88.,  64.],\n",
              "         [ 87., 134.,  58.]]), tensor([[ 56.,  70.],\n",
              "         [ 81., 101.],\n",
              "         [119., 133.]]))"
            ]
          },
          "metadata": {
            "tags": []
          },
          "execution_count": 61
        }
      ]
    },
    {
      "cell_type": "markdown",
      "metadata": {
        "id": "mkTiG90uG_Zy"
      },
      "source": [
        "The TensorDataset allows us to access a small section of the training data using the array indexing notation ([0:3] in the above code). It returns a tuple with two elements. The first element contains the input variables for the selected rows, and the second contains the targets.\n",
        "\n",
        "We'll also create a DataLoader, which can split the data into batches of a predefined size while training. It also provides other utilities like shuffling and random sampling of the data."
      ]
    },
    {
      "cell_type": "code",
      "metadata": {
        "id": "WRU-NY_tG0af"
      },
      "source": [
        "from torch.utils.data import DataLoader"
      ],
      "execution_count": 62,
      "outputs": []
    },
    {
      "cell_type": "code",
      "metadata": {
        "id": "mXLmA7WIHH9q"
      },
      "source": [
        "#define data loader\n",
        "batch_size = 3\n",
        "train_dl= DataLoader(train_ds,batch_size,shuffle=True)"
      ],
      "execution_count": 63,
      "outputs": []
    },
    {
      "cell_type": "markdown",
      "metadata": {
        "id": "Em8NjCEiHZy0"
      },
      "source": [
        "We can use the data loader in a for loop. Let's look at an example."
      ]
    },
    {
      "cell_type": "code",
      "metadata": {
        "colab": {
          "base_uri": "https://localhost:8080/"
        },
        "id": "DfLw4hzVHWt4",
        "outputId": "1ca80e05-0545-4b28-c1bd-6ae79ff591b0"
      },
      "source": [
        "for xb,yb in train_dl:\n",
        "  print(xb)\n",
        "  print(yb)\n",
        "  break"
      ],
      "execution_count": 64,
      "outputs": [
        {
          "output_type": "stream",
          "text": [
            "tensor([[101.,  44.,  37.],\n",
            "        [103.,  43.,  36.],\n",
            "        [102.,  43.,  37.]])\n",
            "tensor([[21., 38.],\n",
            "        [20., 38.],\n",
            "        [22., 37.]])\n"
          ],
          "name": "stdout"
        }
      ]
    },
    {
      "cell_type": "markdown",
      "metadata": {
        "id": "aEb9D59FHx3A"
      },
      "source": [
        "In each iteration, the data loader returns one batch of data with the given batch size. If shuffle is set to True, it shuffles the training data before creating batches. Shuffling helps randomize the input to the optimization algorithm, leading to a faster reduction in the loss."
      ]
    },
    {
      "cell_type": "markdown",
      "metadata": {
        "id": "vwNrP9d4H0bV"
      },
      "source": [
        "#nn.Linear\n",
        "Instead of initializing the weights & biases manually, we can define the model using the nn.Linear class from PyTorch, which does it automatically."
      ]
    },
    {
      "cell_type": "code",
      "metadata": {
        "colab": {
          "base_uri": "https://localhost:8080/"
        },
        "id": "Ygs6tUWAHgiz",
        "outputId": "57db319a-aa6d-4f2d-d17d-8b8012ce9c77"
      },
      "source": [
        "# Define model\n",
        "model = nn.Linear(3,2)\n",
        "print(model.weight)\n",
        "print(model.bias)"
      ],
      "execution_count": 65,
      "outputs": [
        {
          "output_type": "stream",
          "text": [
            "Parameter containing:\n",
            "tensor([[-0.5691,  0.0758,  0.5460],\n",
            "        [ 0.1605,  0.3565, -0.5010]], requires_grad=True)\n",
            "Parameter containing:\n",
            "tensor([ 0.4753, -0.3646], requires_grad=True)\n"
          ],
          "name": "stdout"
        }
      ]
    },
    {
      "cell_type": "markdown",
      "metadata": {
        "id": "o2adJr56IPGP"
      },
      "source": [
        "PyTorch models also have a helpful .parameters method, which returns a list containing all the weights and bias matrices present in the model. For our linear regression model, we have one weight matrix and one bias matrix."
      ]
    },
    {
      "cell_type": "code",
      "metadata": {
        "colab": {
          "base_uri": "https://localhost:8080/"
        },
        "id": "fyKMKmXtIPgF",
        "outputId": "07441408-b506-4795-cff1-4f0db3c64162"
      },
      "source": [
        "# parameters\n",
        "list(model.parameters())"
      ],
      "execution_count": 66,
      "outputs": [
        {
          "output_type": "execute_result",
          "data": {
            "text/plain": [
              "[Parameter containing:\n",
              " tensor([[-0.5691,  0.0758,  0.5460],\n",
              "         [ 0.1605,  0.3565, -0.5010]], requires_grad=True),\n",
              " Parameter containing:\n",
              " tensor([ 0.4753, -0.3646], requires_grad=True)]"
            ]
          },
          "metadata": {
            "tags": []
          },
          "execution_count": 66
        }
      ]
    },
    {
      "cell_type": "markdown",
      "metadata": {
        "id": "sAfb1bnRIYWP"
      },
      "source": [
        "We can use the model to generate predictions in the same way as before."
      ]
    },
    {
      "cell_type": "code",
      "metadata": {
        "colab": {
          "base_uri": "https://localhost:8080/"
        },
        "id": "PkmqVoyzISrt",
        "outputId": "455ddede-fea4-4cdc-a6b8-74878e7610ff"
      },
      "source": [
        "#generate predictions\n",
        "preds = model(inputs)\n",
        "preds"
      ],
      "execution_count": 67,
      "outputs": [
        {
          "output_type": "execute_result",
          "data": {
            "text/plain": [
              "tensor([[-12.5080,  13.6950],\n",
              "        [ -9.6930,  13.5497],\n",
              "        [ -7.2041,  32.3102],\n",
              "        [-34.1066,  12.8014],\n",
              "        [  6.7088,   9.8638],\n",
              "        [-13.1529,  13.4991],\n",
              "        [ -9.2229,  12.6923],\n",
              "        [ -7.2272,  31.9697],\n",
              "        [-33.4617,  12.9974],\n",
              "        [  7.8238,   9.2023],\n",
              "        [-12.0379,  12.8376],\n",
              "        [-10.3379,  13.3538],\n",
              "        [ -7.6742,  33.1676],\n",
              "        [-35.2216,  13.4629],\n",
              "        [  7.3537,  10.0597]], grad_fn=<AddmmBackward>)"
            ]
          },
          "metadata": {
            "tags": []
          },
          "execution_count": 67
        }
      ]
    },
    {
      "cell_type": "markdown",
      "metadata": {
        "id": "f6hO3FgFIjkY"
      },
      "source": [
        "Loss Function\n",
        "Instead of defining a loss function manually, we can use the built-in loss function mse_loss."
      ]
    },
    {
      "cell_type": "code",
      "metadata": {
        "id": "abv4Pc5_Ie3q"
      },
      "source": [
        "# import nn.functional\n",
        "import torch.nn.functional as F"
      ],
      "execution_count": 68,
      "outputs": []
    },
    {
      "cell_type": "markdown",
      "metadata": {
        "id": "noLsJ7toIrz9"
      },
      "source": [
        "The nn.functional package contains many useful loss functions and several other utilities."
      ]
    },
    {
      "cell_type": "code",
      "metadata": {
        "id": "6eJZrnXrIpJE"
      },
      "source": [
        "#define the loss function\n",
        "loss_fn = F.mse_loss"
      ],
      "execution_count": 69,
      "outputs": []
    },
    {
      "cell_type": "markdown",
      "metadata": {
        "id": "T2-o2-tDI17E"
      },
      "source": [
        "Let's compute the loss for the current predictions of our model."
      ]
    },
    {
      "cell_type": "code",
      "metadata": {
        "id": "gjMTafKtIzm4"
      },
      "source": [
        "loss = loss_fn(model(inputs),targets)"
      ],
      "execution_count": 70,
      "outputs": []
    },
    {
      "cell_type": "code",
      "metadata": {
        "colab": {
          "base_uri": "https://localhost:8080/"
        },
        "id": "5jrygYeJI7uV",
        "outputId": "3e88d45d-506d-40ed-efcf-69e1386f059e"
      },
      "source": [
        "print(loss)"
      ],
      "execution_count": 71,
      "outputs": [
        {
          "output_type": "stream",
          "text": [
            "tensor(7454.4858, grad_fn=<MseLossBackward>)\n"
          ],
          "name": "stdout"
        }
      ]
    },
    {
      "cell_type": "markdown",
      "metadata": {
        "id": "erzuyPjJJE0r"
      },
      "source": [
        "#Optimizer\n",
        "Instead of manually manipulating the model's weights & biases using gradients, we can use the optimizer optim.SGD. SGD is short for \"stochastic gradient descent\". The term stochastic indicates that samples are selected in random batches instead of as a single group"
      ]
    },
    {
      "cell_type": "code",
      "metadata": {
        "id": "M6OIDh8sI83N"
      },
      "source": [
        "# define optimizer\n",
        "opt = torch.optim.SGD(model.parameters(), lr = 1e-5)\n"
      ],
      "execution_count": 72,
      "outputs": []
    },
    {
      "cell_type": "markdown",
      "metadata": {
        "id": "owzL4j3NJXGZ"
      },
      "source": [
        "Note that model.parameters() is passed as an argument to optim.SGD so that the optimizer knows which matrices should be modified during the update step. Also, we can specify a learning rate that controls the amount by which the parameters are modified."
      ]
    },
    {
      "cell_type": "markdown",
      "metadata": {
        "id": "wHk3Jk6dJa57"
      },
      "source": [
        "#Train the model\n",
        "We are now ready to train the model. We'll follow the same process to implement gradient descent:\n",
        "\n",
        "1. Generate predictions\n",
        "\n",
        "2. Calculate the loss\n",
        "\n",
        "3. Compute gradients w.r.t the weights and biases\n",
        "\n",
        "4. Adjust the weights by subtracting a small quantity proportional to the gradient\n",
        "\n",
        "5. Reset the gradients to zero\n",
        "\n",
        "The only change is that we'll work batches of data instead of processing the entire training data in every iteration. Let's define a utility function fit that trains the model for a given number of epochs."
      ]
    },
    {
      "cell_type": "code",
      "metadata": {
        "id": "ADIHmOSNJPzG"
      },
      "source": [
        "# utility function to train the model\n",
        "def fit(num_epochs,model,loss_fn,opt,train_dl):\n",
        "  #repeat for given number of epoches\n",
        "  for epoch in range(num_epochs):\n",
        "\n",
        "    #train with batches of data\n",
        "    for xb,yb in train_dl:\n",
        "      #1 generate predictions\n",
        "      pred = model(xb)\n",
        "      \n",
        "      #2 calcuate loss\n",
        "      loss = loss_fn(pred, yb)\n",
        "\n",
        "      #3 computer gradients\n",
        "      loss.backward()\n",
        "\n",
        "      #4 update parameters using gradients\n",
        "      opt.step()\n",
        "\n",
        "      #5 reset the gradients to zero\n",
        "      opt.zero_grad()\n",
        "    #print the progress\n",
        "    if(epoch +1) % 10 == 0:\n",
        "      print('Epoch [{}/{}],Loss:{:.4f}'.format(epoch+1,num_epochs,loss.item()))\n"
      ],
      "execution_count": 73,
      "outputs": []
    },
    {
      "cell_type": "markdown",
      "metadata": {
        "id": "hSAbf-Z0LOcS"
      },
      "source": [
        "Some things to note above:\n",
        "\n",
        "We use the data loader defined earlier to get batches of data for every iteration.\n",
        "\n",
        "Instead of updating parameters (weights and biases) manually, we use opt.step to perform the update and opt.zero_grad to reset the gradients to zero.\n",
        "\n",
        "We've also added a log statement that prints the loss from the last batch of data for every 10th epoch to track training progress. loss.item returns the actual value stored in the loss tensor."
      ]
    },
    {
      "cell_type": "markdown",
      "metadata": {
        "id": "mM05SJN4LZOs"
      },
      "source": [
        "Let's train the model for 100 epochs."
      ]
    },
    {
      "cell_type": "code",
      "metadata": {
        "colab": {
          "base_uri": "https://localhost:8080/"
        },
        "id": "FghoSePlLXYL",
        "outputId": "811dcdf7-62a7-441e-b652-2733f829b36a"
      },
      "source": [
        "fit(200,model,loss_fn,opt,train_dl)\n"
      ],
      "execution_count": 74,
      "outputs": [
        {
          "output_type": "stream",
          "text": [
            "Epoch [10/200],Loss:204.0828\n",
            "Epoch [20/200],Loss:102.1040\n",
            "Epoch [30/200],Loss:62.0726\n",
            "Epoch [40/200],Loss:52.2526\n",
            "Epoch [50/200],Loss:36.5705\n",
            "Epoch [60/200],Loss:35.9019\n",
            "Epoch [70/200],Loss:65.5519\n",
            "Epoch [80/200],Loss:23.4633\n",
            "Epoch [90/200],Loss:27.0687\n",
            "Epoch [100/200],Loss:38.2539\n",
            "Epoch [110/200],Loss:18.2844\n",
            "Epoch [120/200],Loss:23.8462\n",
            "Epoch [130/200],Loss:2.0479\n",
            "Epoch [140/200],Loss:26.6719\n",
            "Epoch [150/200],Loss:16.8459\n",
            "Epoch [160/200],Loss:29.4819\n",
            "Epoch [170/200],Loss:14.7331\n",
            "Epoch [180/200],Loss:17.7844\n",
            "Epoch [190/200],Loss:14.9084\n",
            "Epoch [200/200],Loss:19.0774\n"
          ],
          "name": "stdout"
        }
      ]
    },
    {
      "cell_type": "markdown",
      "metadata": {
        "id": "OuP3ydxGMFN5"
      },
      "source": [
        "Let's generate predictions using our model and verify that they're close to our targets.\n",
        "\n"
      ]
    },
    {
      "cell_type": "code",
      "metadata": {
        "id": "afTABM9QLg1w"
      },
      "source": [
        "# generate predictions"
      ],
      "execution_count": 75,
      "outputs": []
    },
    {
      "cell_type": "code",
      "metadata": {
        "id": "i5fyMZ7hMIdx"
      },
      "source": [
        "preds = model(inputs)"
      ],
      "execution_count": 76,
      "outputs": []
    },
    {
      "cell_type": "code",
      "metadata": {
        "colab": {
          "base_uri": "https://localhost:8080/"
        },
        "id": "KlNsyDV2MKUl",
        "outputId": "bf89327c-769b-417e-bbfa-696e0f6ebf86"
      },
      "source": [
        "preds"
      ],
      "execution_count": 77,
      "outputs": [
        {
          "output_type": "execute_result",
          "data": {
            "text/plain": [
              "tensor([[ 57.0313,  70.5474],\n",
              "        [ 82.4761,  97.4066],\n",
              "        [117.3355, 138.8184],\n",
              "        [ 20.6394,  39.3422],\n",
              "        [102.8105, 112.1164],\n",
              "        [ 55.7909,  69.4099],\n",
              "        [ 82.4097,  96.9516],\n",
              "        [117.6676, 139.1222],\n",
              "        [ 21.8798,  40.4797],\n",
              "        [103.9845, 112.7989],\n",
              "        [ 56.9649,  70.0925],\n",
              "        [ 81.2357,  96.2691],\n",
              "        [117.4019, 139.2733],\n",
              "        [ 19.4654,  38.6597],\n",
              "        [104.0509, 113.2538]], grad_fn=<AddmmBackward>)"
            ]
          },
          "metadata": {
            "tags": []
          },
          "execution_count": 77
        }
      ]
    },
    {
      "cell_type": "code",
      "metadata": {
        "colab": {
          "base_uri": "https://localhost:8080/"
        },
        "id": "athF03-vMKy8",
        "outputId": "19244c84-78b6-4ac2-d468-7511dca4b077"
      },
      "source": [
        "targets"
      ],
      "execution_count": 78,
      "outputs": [
        {
          "output_type": "execute_result",
          "data": {
            "text/plain": [
              "tensor([[ 56.,  70.],\n",
              "        [ 81., 101.],\n",
              "        [119., 133.],\n",
              "        [ 22.,  37.],\n",
              "        [103., 119.],\n",
              "        [ 57.,  69.],\n",
              "        [ 80., 102.],\n",
              "        [118., 132.],\n",
              "        [ 21.,  38.],\n",
              "        [104., 118.],\n",
              "        [ 57.,  69.],\n",
              "        [ 82., 100.],\n",
              "        [118., 134.],\n",
              "        [ 20.,  38.],\n",
              "        [102., 120.]])"
            ]
          },
          "metadata": {
            "tags": []
          },
          "execution_count": 78
        }
      ]
    },
    {
      "cell_type": "markdown",
      "metadata": {
        "id": "2Gu8Fz1OMT1p"
      },
      "source": [
        "Indeed, the predictions are quite close to our targets. We have a trained a reasonably good model to predict crop yields for apples and oranges by looking at the average temperature, rainfall, and humidity in a region. We can use it to make predictions of crop yields for new regions by passing a batch containing a single row of input."
      ]
    },
    {
      "cell_type": "code",
      "metadata": {
        "colab": {
          "base_uri": "https://localhost:8080/"
        },
        "id": "H_Q1HcY6MNrD",
        "outputId": "58667e66-3c26-4ef5-e790-2e976458556e"
      },
      "source": [
        "model(torch.tensor([[75,63,44.]]))"
      ],
      "execution_count": 79,
      "outputs": [
        {
          "output_type": "execute_result",
          "data": {
            "text/plain": [
              "tensor([[53.6647, 66.8694]], grad_fn=<AddmmBackward>)"
            ]
          },
          "metadata": {
            "tags": []
          },
          "execution_count": 79
        }
      ]
    },
    {
      "cell_type": "markdown",
      "metadata": {
        "id": "KCebQ6wUMeJM"
      },
      "source": [
        "The predicted yield of apples is 54.3 tons per hectare, and that of oranges is 68.3 tons per hectare.\n",
        "\n"
      ]
    },
    {
      "cell_type": "code",
      "metadata": {
        "id": "nHeGCbCGMZ6I"
      },
      "source": [
        ""
      ],
      "execution_count": null,
      "outputs": []
    }
  ]
}